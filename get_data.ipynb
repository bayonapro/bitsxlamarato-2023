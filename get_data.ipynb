{
 "cells": [
  {
   "cell_type": "code",
   "execution_count": 197,
   "metadata": {},
   "outputs": [],
   "source": [
    "import cv2 as cv\n",
    "import numpy as np\n",
    "import matplotlib.pyplot as plt\n",
    "import scipy"
   ]
  },
  {
   "cell_type": "code",
   "execution_count": 198,
   "metadata": {},
   "outputs": [],
   "source": [
    "img_fname = 'RCTG/pngs/RCTG/1/RCTG_1_1.png'"
   ]
  },
  {
   "cell_type": "code",
   "execution_count": 199,
   "metadata": {},
   "outputs": [],
   "source": [
    "img = cv.imread(img_fname)"
   ]
  },
  {
   "cell_type": "code",
   "execution_count": 251,
   "metadata": {},
   "outputs": [],
   "source": [
    "def imshow(image : np.ndarray, title='image', fx=0.25, fy=0.25, use_cv=False):\n",
    "    if not use_cv:\n",
    "        image_to_show = image.copy()\n",
    "        if len(image.shape) == 2 or image.shape[2] == 1:\n",
    "            image_to_show = cv.cvtColor(image_to_show, cv.COLOR_GRAY2RGB)\n",
    "        else:\n",
    "            image_to_show = cv.cvtColor(image_to_show, cv.COLOR_BGR2RGB)\n",
    "        plt.imshow(image_to_show)\n",
    "    else:\n",
    "        cv.imshow(title, cv.resize(image, (0, 0), fx=fx, fy=fy))\n",
    "        cv.waitKey(0)\n",
    "        cv.destroyAllWindows()"
   ]
  },
  {
   "cell_type": "code",
   "execution_count": 201,
   "metadata": {},
   "outputs": [],
   "source": [
    "imshow(img, fx=0.2, fy=0.2)"
   ]
  },
  {
   "cell_type": "code",
   "execution_count": 202,
   "metadata": {},
   "outputs": [],
   "source": [
    "b, g, r = cv.split(img)"
   ]
  },
  {
   "cell_type": "code",
   "execution_count": 203,
   "metadata": {},
   "outputs": [],
   "source": [
    "imshow(r, 'r')\n",
    "imshow(g, 'g')\n",
    "imshow(b, 'b')"
   ]
  },
  {
   "cell_type": "code",
   "execution_count": 204,
   "metadata": {},
   "outputs": [],
   "source": [
    "_, g_mask = cv.threshold(g, 150, 255, cv.THRESH_BINARY)\n",
    "imshow(g_mask)"
   ]
  },
  {
   "cell_type": "code",
   "execution_count": 205,
   "metadata": {},
   "outputs": [],
   "source": [
    "imshow(r, 'r')"
   ]
  },
  {
   "cell_type": "code",
   "execution_count": 206,
   "metadata": {},
   "outputs": [
    {
     "data": {
      "text/plain": [
       "(4135, 5847)"
      ]
     },
     "execution_count": 206,
     "metadata": {},
     "output_type": "execute_result"
    }
   ],
   "source": [
    "r.shape"
   ]
  },
  {
   "cell_type": "code",
   "execution_count": 207,
   "metadata": {},
   "outputs": [
    {
     "name": "stdout",
     "output_type": "stream",
     "text": [
      "(4135, 5847)\n"
     ]
    }
   ],
   "source": [
    "upper_graph_mask = np.uint8(np.zeros(img.shape[:2]))\n",
    "print(upper_graph_mask.shape)\n",
    "start = 1175\n",
    "end = start + 1675\n",
    "cv.rectangle(upper_graph_mask, (0, start), (img.shape[1], end), 255, -1)\n",
    "imshow(upper_graph_mask)\n",
    "upper_graph = cv.bitwise_and(img, img, mask=upper_graph_mask)\n",
    "# _, upper_graph_mask = cv.threshold(upper_graph_mask, 0, 255, cv.THRESH_BINARY)\n",
    "upper_graph = upper_graph[start:end, 0:img.shape[1]]\n",
    "imshow(upper_graph)"
   ]
  },
  {
   "cell_type": "code",
   "execution_count": 208,
   "metadata": {},
   "outputs": [],
   "source": [
    "upper_graph_b, upper_graph_g, upper_graph_r = cv.split(upper_graph)"
   ]
  },
  {
   "cell_type": "code",
   "execution_count": 209,
   "metadata": {},
   "outputs": [],
   "source": [
    "imshow(upper_graph_r, 'upper graph r')\n",
    "imshow(upper_graph_g, 'upper graph g')\n",
    "imshow(upper_graph_b, 'upper graph b')"
   ]
  },
  {
   "cell_type": "code",
   "execution_count": 210,
   "metadata": {},
   "outputs": [],
   "source": [
    "imshow(cv.threshold(upper_graph_g, 200, 255, cv.THRESH_BINARY_INV)[1])"
   ]
  },
  {
   "cell_type": "code",
   "execution_count": 211,
   "metadata": {},
   "outputs": [],
   "source": [
    "imshow(upper_graph)"
   ]
  },
  {
   "cell_type": "code",
   "execution_count": 212,
   "metadata": {},
   "outputs": [],
   "source": [
    "baby_graph_mask = np.uint8(np.zeros(upper_graph.shape[:2]))\n",
    "start = 315\n",
    "end = 1300\n",
    "cv.rectangle(baby_graph_mask, (0, start), (img.shape[1], end), 255, -1)\n",
    "baby_graph = cv.bitwise_and(upper_graph, upper_graph, mask=baby_graph_mask)\n",
    "baby_graph = baby_graph[start:end, :]\n",
    "imshow(baby_graph)"
   ]
  },
  {
   "cell_type": "code",
   "execution_count": 213,
   "metadata": {},
   "outputs": [],
   "source": [
    "baby_graph_b, baby_graph_g, baby_graph_r = cv.split(baby_graph)"
   ]
  },
  {
   "cell_type": "code",
   "execution_count": 214,
   "metadata": {},
   "outputs": [],
   "source": [
    "imshow(baby_graph_b)"
   ]
  },
  {
   "cell_type": "code",
   "execution_count": 215,
   "metadata": {},
   "outputs": [],
   "source": [
    "imshow(baby_graph_g)"
   ]
  },
  {
   "cell_type": "code",
   "execution_count": 216,
   "metadata": {},
   "outputs": [],
   "source": [
    "imshow(baby_graph_r)"
   ]
  },
  {
   "cell_type": "code",
   "execution_count": 217,
   "metadata": {},
   "outputs": [],
   "source": [
    "_, th_baby_graph_g = cv.threshold(baby_graph_g, 200, 255, cv.THRESH_BINARY_INV)\n",
    "imshow(th_baby_graph_g)"
   ]
  },
  {
   "cell_type": "code",
   "execution_count": 218,
   "metadata": {},
   "outputs": [],
   "source": [
    "_, th_baby_graph_b = cv.threshold(baby_graph_b, 189, 255, cv.THRESH_BINARY_INV)\n",
    "imshow(th_baby_graph_b)"
   ]
  },
  {
   "cell_type": "code",
   "execution_count": 219,
   "metadata": {},
   "outputs": [],
   "source": [
    "th_baby_graph = cv.bitwise_and(th_baby_graph_b, th_baby_graph_g)\n",
    "imshow(th_baby_graph)"
   ]
  },
  {
   "cell_type": "code",
   "execution_count": 220,
   "metadata": {},
   "outputs": [],
   "source": [
    "baby_graph_only = cv.bitwise_and(baby_graph, baby_graph, mask=th_baby_graph)\n",
    "imshow(baby_graph_only)"
   ]
  },
  {
   "cell_type": "code",
   "execution_count": 221,
   "metadata": {},
   "outputs": [],
   "source": [
    "contours, _ = cv.findContours(th_baby_graph, cv.RETR_EXTERNAL, cv.CHAIN_APPROX_SIMPLE)\n",
    "contours = [ c for c in contours if cv.contourArea(c) >= 100 ]\n",
    "\n",
    "baby_contour = np.uint8(np.zeros(th_baby_graph.shape))\n",
    "cv.drawContours(baby_contour, contours, -1, 255, -1)\n",
    "imshow(baby_contour)"
   ]
  },
  {
   "cell_type": "code",
   "execution_count": 222,
   "metadata": {},
   "outputs": [],
   "source": [
    "def get_white_contour_points(img, csv_fname=''):\n",
    "    data = {}\n",
    "    white_pixels = np.argwhere(img == 255)\n",
    "\n",
    "    for y, x in white_pixels:\n",
    "        if x not in data:\n",
    "            data[x] = [ y ]\n",
    "        else:\n",
    "            data[x] += [ y ]\n",
    "\n",
    "    data_points = [ ( x, np.average(ys).astype(np.int64) ) for x, ys in data.items() ]\n",
    "\n",
    "    if csv_fname != '':\n",
    "        with open(csv_fname, 'w') as f:\n",
    "            f.write('x,y\\n')\n",
    "            for x, y in sorted(data_points, key=lambda x: x[0]):\n",
    "                f.write(f'{x},{y}\\n')\n",
    "\n",
    "    return np.resize(data_points, (len(data_points), 2))"
   ]
  },
  {
   "cell_type": "code",
   "execution_count": 223,
   "metadata": {},
   "outputs": [],
   "source": [
    "baby_data_points = get_white_contour_points(baby_contour, 'holabebe.csv')"
   ]
  },
  {
   "cell_type": "code",
   "execution_count": 224,
   "metadata": {},
   "outputs": [],
   "source": [
    "black = np.uint8(np.zeros(baby_contour.shape[:2]))\n",
    "for x, y in baby_data_points:\n",
    "    black[y, x] = 255\n",
    "black = cv.dilate(black, cv.getStructuringElement(cv.MORPH_ELLIPSE, (5, 5)))\n",
    "imshow(black)"
   ]
  },
  {
   "cell_type": "markdown",
   "metadata": {},
   "source": [
    "# Contracture extraction (me duele la espalda para los que no sepan ingles)"
   ]
  },
  {
   "cell_type": "code",
   "execution_count": 225,
   "metadata": {},
   "outputs": [],
   "source": [
    "contraction_mask = np.uint8(np.zeros(img.shape[:2]))\n",
    "contraction_graph_start = 2895\n",
    "contraction_graph_end = 3685\n",
    "cv.rectangle(contraction_mask, (0, contraction_graph_start), (img.shape[1], contraction_graph_end), 255, -1)\n",
    "imshow(contraction_mask, fx=0.2, fy=0.2)"
   ]
  },
  {
   "cell_type": "code",
   "execution_count": 226,
   "metadata": {},
   "outputs": [],
   "source": [
    "contraction_graph = cv.bitwise_and(img, img, mask=contraction_mask)\n",
    "contraction_graph = contraction_graph[contraction_graph_start:contraction_graph_end, :]\n",
    "imshow(contraction_graph)"
   ]
  },
  {
   "cell_type": "code",
   "execution_count": 227,
   "metadata": {},
   "outputs": [],
   "source": [
    "contraction_graph_b, contraction_graph_g, contraction_graph_r = cv.split(contraction_graph)\n",
    "# imshow(contraction_graph_r, 'contraction_graph_r', use_cv=True)\n",
    "# imshow(contraction_graph_g, 'contraction_graph_g', use_cv=True)\n",
    "# imshow(contraction_graph_b, 'contraction_graph_b', use_cv=True)"
   ]
  },
  {
   "cell_type": "code",
   "execution_count": 228,
   "metadata": {},
   "outputs": [],
   "source": [
    "_, th_contraction_graph = cv.threshold(contraction_graph_g, 200, 255, cv.THRESH_BINARY_INV)\n",
    "imshow(th_contraction_graph)"
   ]
  },
  {
   "cell_type": "code",
   "execution_count": 229,
   "metadata": {},
   "outputs": [],
   "source": [
    "# contraction_contours, _ = cv.findContours(th_contraction_graph, cv.RETR_TREE, cv.CHAIN_APPROX_SIMPLE)\n",
    "# img_cpy = np.zeros((*th_contraction_graph.shape[:2], 3))\n",
    "# contraction_contours = sorted(contraction_contours, key=lambda x : cv.contourArea(x), reverse=True)\n",
    "# contraction_contours = [ x for x in contraction_contours if cv.contourArea(x) >= 100 ]\n",
    "# cv.drawContours(img_cpy, contraction_contours, 0, (0, 0, 255))\n",
    "# imshow(img_cpy)"
   ]
  },
  {
   "cell_type": "code",
   "execution_count": 230,
   "metadata": {},
   "outputs": [],
   "source": [
    "_, th_contraction_graph_2 = cv.threshold(contraction_graph_g, 0, 255, cv.THRESH_OTSU)\n",
    "th_contraction_graph_2 = cv.bitwise_not(th_contraction_graph_2, th_contraction_graph_2)\n",
    "\n",
    "contraction_graph_filtered = cv.bitwise_and(contraction_graph_g, contraction_graph_g, mask=th_contraction_graph_2)\n",
    "imshow(contraction_graph_filtered)"
   ]
  },
  {
   "cell_type": "code",
   "execution_count": 231,
   "metadata": {},
   "outputs": [],
   "source": [
    "contraction_graph_mask = np.uint8(np.zeros(contraction_graph_filtered.shape))\n",
    "cv.rectangle(contraction_graph_mask, (0, 80), (contraction_graph_mask.shape[1], 720), 255, -1)\n",
    "\n",
    "contraction_graph_final = cv.bitwise_and(contraction_graph_filtered, contraction_graph_filtered, mask=contraction_graph_mask)\n",
    "_, contraction_graph_final = cv.threshold(contraction_graph_final, 0, 255, cv.THRESH_BINARY)\n",
    "imshow(contraction_graph_final)"
   ]
  },
  {
   "cell_type": "code",
   "execution_count": 232,
   "metadata": {},
   "outputs": [
    {
     "data": {
      "text/plain": [
       "(3740, 2)"
      ]
     },
     "execution_count": 232,
     "metadata": {},
     "output_type": "execute_result"
    }
   ],
   "source": [
    "contraction_data_points = get_white_contour_points(contraction_graph_final, 'contraction_points.csv')\n",
    "contraction_data_points.shape"
   ]
  },
  {
   "cell_type": "code",
   "execution_count": 233,
   "metadata": {},
   "outputs": [],
   "source": [
    "black = np.uint8(np.zeros(contraction_graph_final.shape[:2]))\n",
    "for x, y in contraction_data_points:\n",
    "    black[y, x] = 255\n",
    "\n",
    "black = cv.dilate(black, cv.getStructuringElement(cv.MORPH_ELLIPSE, (5, 5)))\n",
    "imshow(black)"
   ]
  },
  {
   "cell_type": "markdown",
   "metadata": {},
   "source": [
    "# Get contraction peaks"
   ]
  },
  {
   "cell_type": "code",
   "execution_count": 234,
   "metadata": {},
   "outputs": [],
   "source": [
    "contraction_threshold = 500\n",
    "\n",
    "contraction_graph_study = contraction_graph_final.copy()\n",
    "contraction_graph_viz = np.uint8(np.zeros((*contraction_graph_final.shape[:2], 3)))\n",
    "for x, y in contraction_data_points:\n",
    "    contraction_graph_viz[y, x] = ( 255, 255, 255 )\n",
    "\n",
    "cv.line(contraction_graph_viz, (0, contraction_threshold), (contraction_graph_viz.shape[1], contraction_threshold), (0, 255, 255))\n",
    "\n",
    "contraction_graph_viz = cv.dilate(contraction_graph_viz, cv.getStructuringElement(cv.MORPH_ELLIPSE, (5, 5)))\n",
    "imshow(contraction_graph_viz)"
   ]
  },
  {
   "cell_type": "code",
   "execution_count": 235,
   "metadata": {},
   "outputs": [],
   "source": [
    "contraction_data_points_sorted = contraction_data_points[contraction_data_points[:, 0].argsort()]\n",
    "x = contraction_data_points_sorted[:, 0]\n",
    "y = contraction_data_points_sorted[:, 1]\n",
    "z = np.polyfit(x, y, 15)\n",
    "f = np.poly1d(z)\n",
    "\n",
    "contraction_approx_curve = list(map(lambda x : (x, f(x)), list(range(contraction_graph_viz.shape[1]))))\n",
    "contraction_approx_curve = np.resize(contraction_approx_curve, (len(contraction_approx_curve), 2))\n",
    "\n",
    "contraction_graph_viz_cpy = contraction_graph_viz.copy()\n",
    "for i in range(1, len(contraction_approx_curve)):   \n",
    "    cv.line(contraction_graph_viz_cpy, contraction_approx_curve[i - 1].astype(np.int64), contraction_approx_curve[i].astype(np.int64), (255, 255, 0), 5)\n",
    "\n",
    "imshow(contraction_graph_viz_cpy)"
   ]
  },
  {
   "cell_type": "code",
   "execution_count": 236,
   "metadata": {},
   "outputs": [
    {
     "data": {
      "text/plain": [
       "array([ 503,  504,  505, ..., 5844, 5845, 5846])"
      ]
     },
     "execution_count": 236,
     "metadata": {},
     "output_type": "execute_result"
    }
   ],
   "source": [
    "np.where(contraction_approx_curve[:, 1] > contraction_threshold)[0]"
   ]
  },
  {
   "cell_type": "code",
   "execution_count": 237,
   "metadata": {},
   "outputs": [
    {
     "name": "stdout",
     "output_type": "stream",
     "text": [
      "[[ 0.00000000e+00 -1.29762978e+06]\n",
      " [ 1.00000000e+00 -1.28507476e+06]\n",
      " [ 2.00000000e+00 -1.27262796e+06]\n",
      " ...\n",
      " [ 5.84400000e+03  3.96537408e+08]\n",
      " [ 5.84500000e+03  3.98755887e+08]\n",
      " [ 5.84600000e+03  4.00985764e+08]]\n",
      "[       0.         -1297629.78309786]\n"
     ]
    }
   ],
   "source": [
    "print(contraction_approx_curve)\n",
    "print(contraction_approx_curve[0])"
   ]
  },
  {
   "cell_type": "code",
   "execution_count": 262,
   "metadata": {},
   "outputs": [
    {
     "data": {
      "image/png": "[encoded data removed]",
      "text/plain": [
       "<Figure size 640x480 with 1 Axes>"
      ]
     },
     "metadata": {},
     "output_type": "display_data"
    }
   ],
   "source": [
    "contraction_graph_viz_cpy_cpy = contraction_graph_viz_cpy.copy()\n",
    "\n",
    "\n",
    "for idx in np.where(contraction_approx_curve[:, 1] < contraction_threshold)[0]:\n",
    "    cv.circle(contraction_graph_viz_cpy_cpy, contraction_approx_curve[idx].astype(np.int64), 10, (0, 0, 255), -1)\n",
    "\n",
    "imshow(contraction_graph_viz_cpy_cpy)"
   ]
  },
  {
   "cell_type": "code",
   "execution_count": 239,
   "metadata": {},
   "outputs": [],
   "source": [
    "contraction_positions = []\n",
    "\n",
    "contractions = np.where(contraction_approx_curve[:, 1] < contraction_threshold)[0]\n",
    "\n",
    "contraction_positions = [ [ contractions[0], -1 ] ]\n",
    "for i, idx in enumerate(contractions):\n",
    "    if i == 0:\n",
    "        continue\n",
    "\n",
    "\n",
    "    if idx - contractions[i - 1] > 1:\n",
    "        contraction_positions[-1][1] = contractions[i - 1]\n",
    "        contraction_positions.append([ idx, -1 ])\n",
    "\n",
    "if contraction_positions[-1][1] == -1:\n",
    "    contraction_positions[-1][1] = contractions[-1]"
   ]
  },
  {
   "cell_type": "code",
   "execution_count": 240,
   "metadata": {},
   "outputs": [
    {
     "name": "stdout",
     "output_type": "stream",
     "text": [
      "[[0, 502], [636, 1307], [1670, 2171], [2708, 3390], [4356, 4483]]\n"
     ]
    }
   ],
   "source": [
    "print(contraction_positions)"
   ]
  },
  {
   "cell_type": "code",
   "execution_count": 264,
   "metadata": {},
   "outputs": [],
   "source": [
    "contraction_graph_viz_cpy_cpy_cpy = contraction_graph_viz_cpy_cpy.copy()\n",
    "for ini_x, fin_x in contraction_positions:\n",
    "    ini_y = np.min(contraction_approx_curve[ini_x:fin_x], axis=0)[1].astype(np.int64) - 100\n",
    "    cv.rectangle(contraction_graph_viz_cpy_cpy, (ini_x, ini_y), (fin_x, contraction_threshold + 100), (0, 255, 0), 3)\n",
    "\n",
    "imshow(contraction_graph_viz_cpy_cpy_cpy)"
   ]
  },
  {
   "cell_type": "code",
   "execution_count": 258,
   "metadata": {},
   "outputs": [
    {
     "data": {
      "text/plain": [
       "array([636.        , 232.35518851])"
      ]
     },
     "execution_count": 258,
     "metadata": {},
     "output_type": "execute_result"
    }
   ],
   "source": [
    "np.min(contraction_approx_curve[contraction_positions[1][0]:contraction_positions[1][1]], axis=0)"
   ]
  },
  {
   "cell_type": "markdown",
   "metadata": {},
   "source": [
    "# Detect baby bpm spikes"
   ]
  }
 ],
 "metadata": {
  "kernelspec": {
   "display_name": "Python 3",
   "language": "python",
   "name": "python3"
  },
  "language_info": {
   "codemirror_mode": {
    "name": "ipython",
    "version": 3
   },
   "file_extension": ".py",
   "mimetype": "text/x-python",
   "name": "python",
   "nbconvert_exporter": "python",
   "pygments_lexer": "ipython3",
   "version": "3.10.12"
  }
 },
 "nbformat": 4,
 "nbformat_minor": 2
}
